{
 "cells": [
  {
   "cell_type": "code",
   "execution_count": 7,
   "id": "09b97fdf",
   "metadata": {},
   "outputs": [
    {
     "ename": "TypeError",
     "evalue": "'NoneType' object is not callable",
     "output_type": "error",
     "traceback": [
      "\u001b[1;31m---------------------------------------------------------------------------\u001b[0m",
      "\u001b[1;31mTypeError\u001b[0m                                 Traceback (most recent call last)",
      "Input \u001b[1;32mIn [7]\u001b[0m, in \u001b[0;36m<cell line: 17>\u001b[1;34m()\u001b[0m\n\u001b[0;32m     15\u001b[0m Mask \u001b[38;5;241m=\u001b[39m cv2\u001b[38;5;241m.\u001b[39mmorphologyEx(Mask, cv2\u001b[38;5;241m.\u001b[39mMORPH_OPEN, kernel)\n\u001b[0;32m     16\u001b[0m cv2\u001b[38;5;241m.\u001b[39mimshow(\u001b[38;5;124m\"\u001b[39m\u001b[38;5;124mopened\u001b[39m\u001b[38;5;124m\"\u001b[39m,Mask)\n\u001b[1;32m---> 17\u001b[0m cv2\u001b[38;5;241m.\u001b[39mwaitKey();\u001b[43mcv2\u001b[49m\u001b[38;5;241;43m.\u001b[39;49m\u001b[43mdestroyAllWindows\u001b[49m\u001b[43m(\u001b[49m\u001b[43m)\u001b[49m\u001b[43m(\u001b[49m\u001b[38;5;124;43m\"\u001b[39;49m\u001b[38;5;124;43m\"\u001b[39;49m\u001b[43m)\u001b[49m\n",
      "\u001b[1;31mTypeError\u001b[0m: 'NoneType' object is not callable"
     ]
    }
   ],
   "source": [
    "#!/usr/bin/python3\n",
    "# 2018.01.21 20:46:41 CST\n",
    "import cv2\n",
    "import numpy as np\n",
    "kernel = np.ones((5,5),np.uint8)\n",
    "lower_blue = np.array([110,50,50])\n",
    "upper_blue = np.array([130,255,255])\n",
    "img = cv2.imread(\"testing.jpg\")\n",
    "cv2.imshow(\"original\",img)\n",
    "hsv = cv2.cvtColor(img, cv2.COLOR_BGR2HSV)\n",
    "mask = cv2.inRange(hsv,lower_blue, upper_blue )\n",
    "cv2.imshow(\"blue\", mask)\n",
    "Mask = cv2.erode(mask, kernel, iterations=1)\n",
    "cv2.imshow(\"eroded\",Mask)\n",
    "Mask = cv2.morphologyEx(Mask, cv2.MORPH_OPEN, kernel)\n",
    "cv2.imshow(\"opened\",Mask)\n",
    ";cv2.waitKey();cv2.destroyAllWindows()\n"
   ]
  },
  {
   "cell_type": "code",
   "execution_count": null,
   "id": "8bfe2a10",
   "metadata": {},
   "outputs": [],
   "source": [
    "#contours testing\n",
    "\n",
    "import cv2\n",
    "import numpy as np\n",
    "  \n",
    "# Let's load a simple image with 3 black squares\n",
    "image = cv2.imread('C://Users//grengo//Downloads//c.png')\n",
    "cv2.waitKey(0)\n",
    "  \n",
    "# Grayscale\n",
    "gray = cv2.cvtColor(image, cv2.COLOR_BGR2GRAY)\n",
    "  \n",
    "# Find Canny edges\n",
    "edged = cv2.Canny(gray, 30, 200)\n",
    "cv2.waitKey(0)\n",
    "contours, hierarchy = cv2.findContours(edged, \n",
    "    cv2.RETR_EXTERNAL, cv2.CHAIN_APPROX_NONE)\n",
    "  \n",
    "cv2.imshow('Canny Edges After Contouring', edged)\n",
    "cv2.waitKey(0)\n",
    "  \n",
    "print(\"Number of Contours found = \" + str(len(contours)))\n",
    "  \n",
    "# Draw all contours\n",
    "# -1 signifies drawing all contours\n",
    "cv2.drawContours(image, contours, -1, (0, 255, 0), 3)\n",
    "  \n",
    "cv2.imshow('Contours', image)\n",
    "cv2.waitKey(0)\n",
    "cv2.destroyAllWindows()"
   ]
  }
 ],
 "metadata": {
  "kernelspec": {
   "display_name": "Python 3 (ipykernel)",
   "language": "python",
   "name": "python3"
  },
  "language_info": {
   "codemirror_mode": {
    "name": "ipython",
    "version": 3
   },
   "file_extension": ".py",
   "mimetype": "text/x-python",
   "name": "python",
   "nbconvert_exporter": "python",
   "pygments_lexer": "ipython3",
   "version": "3.9.12"
  }
 },
 "nbformat": 4,
 "nbformat_minor": 5
}
