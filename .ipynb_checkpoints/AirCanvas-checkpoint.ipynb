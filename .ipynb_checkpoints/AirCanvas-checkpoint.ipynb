{
 "cells": [
  {
   "cell_type": "markdown",
   "id": "c5f7c2a0",
   "metadata": {},
   "source": [
    "# Air Canvas"
   ]
  },
  {
   "cell_type": "markdown",
   "id": "24bd3aa8",
   "metadata": {},
   "source": [
    "# Importing Libraries"
   ]
  },
  {
   "cell_type": "code",
   "execution_count": 25,
   "id": "30386a4d",
   "metadata": {},
   "outputs": [],
   "source": [
    "import cv2 as cv\n",
    "import numpy as np\n",
    "from collections import deque"
   ]
  },
  {
   "cell_type": "markdown",
   "id": "e6160bfa",
   "metadata": {},
   "source": [
    "# Defining Color"
   ]
  },
  {
   "cell_type": "code",
   "execution_count": 26,
   "id": "bee2722f",
   "metadata": {},
   "outputs": [],
   "source": [
    "def Colors():\n",
    "    R=(255,0,0)\n",
    "    B=(0,255,0)\n",
    "    G=(0,0,255)\n",
    "    Y=(0,255,255)\n",
    "    return [R,B,G,Y]"
   ]
  },
  {
   "cell_type": "markdown",
   "id": "97d4f8aa",
   "metadata": {},
   "source": [
    "# Defining Range For pointer Hue Saturation Value"
   ]
  },
  {
   "cell_type": "code",
   "execution_count": 37,
   "id": "7d5d9a3a",
   "metadata": {},
   "outputs": [],
   "source": [
    "def SettingPointerRange():\n",
    "    UpperHue=180\n",
    "    UpperValue=235\n",
    "    UpperSaturation=169\n",
    "    #110,50,50\n",
    "    #130,255,255\n",
    "    LowerHue=64\n",
    "    LowerSaturation=93\n",
    "    LowerValue=65\n",
    "    UpperRange=np.array([UpperHue,UpperSaturation,UpperValue])\n",
    "    LowerRange=np.array([LowerHue,LowerSaturation,LowerValue])\n",
    "    return UpperRange,LowerRange"
   ]
  },
  {
   "cell_type": "markdown",
   "id": "209d2be5",
   "metadata": {},
   "source": [
    "# Setting the text on Window"
   ]
  },
  {
   "cell_type": "code",
   "execution_count": 38,
   "id": "5dbde75f",
   "metadata": {},
   "outputs": [],
   "source": [
    "def SetTextToWindow(window,NameOfString,CoordinatesOfBottomLeft,ColorOfText):\n",
    "    lineType=cv.LINE_AA\n",
    "    fontScale=0.6\n",
    "    ThicknessOfLineInPixel=2\n",
    "    cv.putText(window, NameOfString, CoordinatesOfBottomLeft, cv.FONT_HERSHEY_SIMPLEX, fontScale, ColorOfText, ThicknessOfLineInPixel,lineType )\n",
    "    "
   ]
  },
  {
   "cell_type": "markdown",
   "id": "75a35228",
   "metadata": {},
   "source": [
    "# Data Structure To Keep the track of Pixels"
   ]
  },
  {
   "cell_type": "code",
   "execution_count": 39,
   "id": "02bbc2fd",
   "metadata": {},
   "outputs": [],
   "source": [
    "def MakeStructure(size):\n",
    "    return [deque(maxlen=size)],[deque(maxlen=size)],[deque(maxlen=size)],[deque(maxlen=size)]\n",
    "    "
   ]
  },
  {
   "cell_type": "code",
   "execution_count": 40,
   "id": "aebdac5a",
   "metadata": {},
   "outputs": [],
   "source": [
    "def SetColoredArea(WindowName,StartingPosition,EndingPosition,Color,x):\n",
    "    return cv.rectangle(WindowName,StartingPosition,EndingPosition,Color,x)"
   ]
  },
  {
   "cell_type": "markdown",
   "id": "13fffbd4",
   "metadata": {},
   "source": [
    "# Creating Canvas Window"
   ]
  },
  {
   "cell_type": "code",
   "execution_count": 41,
   "id": "e0923bb4",
   "metadata": {},
   "outputs": [],
   "source": [
    "def CanvasWindow():\n",
    "    RGBColor=Colors()\n",
    "    #creating canvas window color white of whole window\n",
    "    Canvas= np.zeros((471,636,3)) + 255\n",
    "    #setting the colors for clear rectangle on window\n",
    "   # Canvas = SetColoredArea(Canvas, (40,1), (140,65), (0,0,0), 2)\n",
    "    #setting the color for red ractangle on window\n",
    "   # Canvas = SetColoredArea(Canvas, (160,1), (255,65), RGBColor[0], -1)\n",
    "    #setting the color for blue ractangle on window\n",
    "   # Canvas = SetColoredArea(Canvas, (275,1), (370,65), RGBColor[1], -1)\n",
    "    #setting the color for green ractangle on window\n",
    "    #Canvas = SetColoredArea(Canvas, (390,1), (485,65), RGBColor[2], -1)\n",
    "    #setting the color for yellow ractangle on window\n",
    "    #Canvas = SetColoredArea(Canvas, (505,1), (600,65), RGBColor[3], -1)\n",
    "    \n",
    "    \n",
    "    return Canvas\n",
    "    "
   ]
  },
  {
   "cell_type": "code",
   "execution_count": 42,
   "id": "7fe98a1c",
   "metadata": {},
   "outputs": [],
   "source": [
    "# Holding the pixels location of different colors\n",
    "TrackBluePoints,TrackRedPoints,TrackGreenPoints,TrackYellowPoints=MakeStructure(2048)"
   ]
  },
  {
   "cell_type": "code",
   "execution_count": 43,
   "id": "040475b8",
   "metadata": {},
   "outputs": [],
   "source": [
    "# These indexes will be used to mark the points in particular arrays of specific colour\n",
    "blue_index = 0\n",
    "green_index = 0\n",
    "red_index = 0\n",
    "yellow_index = 0"
   ]
  },
  {
   "cell_type": "code",
   "execution_count": 44,
   "id": "3b51295b",
   "metadata": {},
   "outputs": [],
   "source": [
    "#getting the colors rgb \n",
    "colors = Colors()\n",
    "colorIndex = 0"
   ]
  },
  {
   "cell_type": "markdown",
   "id": "fb572aaa",
   "metadata": {},
   "source": [
    "# Drawing Lines by iterating each location in respective data Structure"
   ]
  },
  {
   "cell_type": "code",
   "execution_count": 45,
   "id": "f21da9c2",
   "metadata": {},
   "outputs": [],
   "source": [
    "def FillRespectivePixels(a):\n",
    "    for i in range(len(a)):\n",
    "        for j in range(len(a[i])):\n",
    "            for k in range(1, len(a[i][j])):\n",
    "                if a[i][j][k - 1] is None or a[i][j][k] is None:\n",
    "                    continue\n",
    "                cv.line(Currentframe, a[i][j][k - 1], a[i][j][k], colors[i], 2)\n",
    "                cv.line(Canvas, a[i][j][k - 1], a[i][j][k], colors[i], 2)"
   ]
  },
  {
   "cell_type": "code",
   "execution_count": null,
   "id": "cfc89338",
   "metadata": {},
   "outputs": [],
   "source": []
  },
  {
   "cell_type": "code",
   "execution_count": 46,
   "id": "9b891afd",
   "metadata": {},
   "outputs": [],
   "source": [
    "\n",
    "\n",
    "\n",
    "#The kernel to be used for dilation purpose \n",
    "kernel = np.ones((5,5),np.uint8)\n",
    "\n",
    "\n",
    "\n",
    "# Here is code for Canvas setup\n",
    "Canvas=CanvasWindow()\n",
    "cv.namedWindow('Canvas', cv.WINDOW_AUTOSIZE)\n",
    "\n",
    "\n",
    "\n",
    "\n",
    "# Loading the default webcam of PC.\n",
    "cap = cv.VideoCapture(0)\n",
    "\n",
    "\n",
    "while True:\n",
    "    # Reading the frame from the camera\n",
    "    ret, Currentframe = cap.read()\n",
    "    #Flipping the frame to see same side of yours\n",
    "    Currentframe = cv.flip(Currentframe, 1)\n",
    "    \n",
    "    #this function will return the image in hsv form\n",
    "    hsv = cv.cvtColor(Currentframe, cv.COLOR_BGR2HSV)\n",
    "\n",
    "    #setting the pointer hue saturation and value range\n",
    "    Upper_hsv,Lower_hsv=SettingPointerRange()\n",
    "    \n",
    "    \n",
    "   \n",
    "\n",
    "    # adding the color buttons to the camera frame \n",
    "    Currentframe = SetColoredArea(Currentframe, (40,1), (140,65), (122,122,122), 2)\n",
    "    Currentframe = SetColoredArea(Currentframe, (160,1), (255,65), colors[0], -1)\n",
    "    Currentframe = SetColoredArea(Currentframe, (275,1), (370,65), colors[1], -1)\n",
    "    Currentframe = SetColoredArea(Currentframe, (390,1), (485,65), colors[2], -1)\n",
    "    Currentframe = SetColoredArea(Currentframe, (505,1), (600,65), colors[3], -1)\n",
    "    #Now do the adding text to the respective colored region in camera frame\n",
    "    \n",
    "    SetTextToWindow(Currentframe, \"Clear\", (49, 33), (255, 255, 255))\n",
    "    SetTextToWindow(Currentframe, \"Blue\", (185, 33), (255, 255, 255))\n",
    "    SetTextToWindow(Currentframe, \"Green\", (298, 33), (255, 255, 255))\n",
    "    SetTextToWindow(Currentframe, \"Red\", (420, 33), (255, 255, 255))\n",
    "    SetTextToWindow(Currentframe, \"Yellow\", (520, 33), (150,150,150))\n",
    "\n",
    "\n",
    "    # Identifying the pointer \n",
    "    #it will return the array consisting of 255 and 0 as value in pixel location thresholded image 0 as placed where color lies\n",
    "    \n",
    "    ThresholdedImage = cv.inRange(hsv, Lower_hsv, Upper_hsv)\n",
    "    \n",
    "    #here morphological operations are applied to remove imperfections(some dots on thresholded image)\n",
    "    #erosion shrinks forground and enlarge background(Structuring Element of fit means all pixels should match)\n",
    "    #dilation shrinks background and enlarge foreground(Structuring Elements fit or touch means atleast one pixel match)\n",
    "    \n",
    "    \n",
    "    \n",
    "    ErodedThresholdedImage = cv.erode(ThresholdedImage, kernel, iterations=1)\n",
    "    #Now all the imperfections from binary image has gone \n",
    "    #\n",
    "    ClearedErodedThresholdedImage = cv.morphologyEx(ErodedThresholdedImage, cv.MORPH_OPEN, kernel)\n",
    "    #may there is chance that white shape is shrinked too much so dialating now\n",
    "    \n",
    "    DilatedImage = cv.dilate(ClearedErodedThresholdedImage, kernel, iterations=1)\n",
    "\n",
    "    #Contours are defined as the line joining all the points along the boundary of an image that are having the same intensity\n",
    "    #it works best on binary images\n",
    "    # Find contours for the pointer after idetifying it\n",
    "    #contours will contain all the boundary loactions \n",
    "    #how many countours are found and each array index contain array of locations joining them will draw the line or boundary\n",
    "    \n",
    "    #hierarchy contains the image shape information\n",
    "    contours,hierarchy = cv.findContours(DilatedImage.copy(), cv.RETR_EXTERNAL,\n",
    "    \tcv.CHAIN_APPROX_SIMPLE)\n",
    "    center = None\n",
    "\n",
    "    # Ifthe contours are formed then add the location and color on the fram and also data structure\n",
    "    if len(contours) > 0:\n",
    "    \t# get the biggesst contour by sorting \n",
    "        contours = sorted(contours, key = cv.contourArea, reverse = True)[0]\n",
    "        # Getting the radius of the pointer shaped contour by enclosing minimum virtual cicle\n",
    "        \n",
    "        #the x and y are the center of contours and radius \n",
    "        ((x, y), radius) = cv.minEnclosingCircle(contours)\n",
    "        # Draw the circle around the contour 2 is the thickness\n",
    "        ContourColor=(0,255,255)\n",
    "        ContourThickness=2\n",
    "        #drawing the contour on current fram of a pointer\n",
    "        cv.circle(Currentframe, (int(x), int(y)), int(radius), ContourColor, ContourThickness)\n",
    "        # Calculating the centroid of the detected contour using moment library\n",
    "        M = cv.moments(contours)\n",
    "        center = (int(M['m10'] / M['m00']), int(M['m01'] / M['m00']))\n",
    "        \n",
    "        #now considering this center pixel location check if this pixel lies abouve window clear or color screen or not\n",
    "\n",
    "        # Now checking if the user wants to click on any button above the screen \n",
    "        #it will be if range lies between 1-65\n",
    "        if center[1] <= 65:\n",
    "            if 40 <= center[0] <= 140: # Clear Button\n",
    "                #resetting data structure\n",
    "                TrackBluePoints,TrackRedPoints,TrackGreenPoints,TrackYellowPoints=MakeStructure(512)\n",
    "                #resetting all colors\n",
    "                blue_index = 0\n",
    "                green_index = 0\n",
    "                red_index = 0\n",
    "                yellow_index = 0\n",
    "\n",
    "                Canvas[67:,:,:] = 255 #all rows from 67 to above and all coumns contain 255\n",
    "            elif 160 <= center[0] <= 255:\n",
    "                    colorIndex = 0 # Blue\n",
    "            elif 275 <= center[0] <= 370:\n",
    "                    colorIndex = 1 # Green\n",
    "            elif 390 <= center[0] <= 485:\n",
    "                    colorIndex = 2 # Red\n",
    "            elif 505 <= center[0] <= 600:\n",
    "                    colorIndex = 3 # Yellow\n",
    "        else :\n",
    "            if colorIndex == 0:\n",
    "                TrackBluePoints[blue_index].appendleft(center)\n",
    "            elif colorIndex == 1:\n",
    "                TrackGreenPoints[green_index].appendleft(center)\n",
    "            elif colorIndex == 2:\n",
    "                TrackRedPoints[red_index].appendleft(center)\n",
    "            elif colorIndex == 3:\n",
    "                TrackYellowPoints[yellow_index].appendleft(center)\n",
    "    # Append the next deques when nothing is detected to avoid messing up\n",
    "    else:\n",
    "        TrackBluePoints.append(deque(maxlen=512))\n",
    "        blue_index += 1\n",
    "        TrackGreenPoints.append(deque(maxlen=512))\n",
    "        green_index += 1\n",
    "        TrackRedPoints.append(deque(maxlen=512))\n",
    "        red_index += 1\n",
    "        TrackYellowPoints.append(deque(maxlen=512))\n",
    "        yellow_index += 1\n",
    "\n",
    "    # Draw lines of all the colors on the canvas and frame \n",
    "    points = [TrackBluePoints, TrackGreenPoints, TrackRedPoints, TrackYellowPoints]\n",
    "    FillRespectivePixels(points)\n",
    "\n",
    "    # Show all the windows\n",
    "    cv.imshow(\"Tracking\", Currentframe)\n",
    "    cv.imshow(\"Canvas\", Canvas)\n",
    "    cv.imshow(\"mask\",DilatedImage)\n",
    "\n",
    "\t# If the 'q' key is pressed then stop the application \n",
    "    if cv.waitKey(1) & 0xFF == ord(\"q\"):\n",
    "        break\n",
    "\n",
    "# Release the camera and all resources\n",
    "cap.release()\n",
    "cv.destroyAllWindows()"
   ]
  },
  {
   "cell_type": "code",
   "execution_count": null,
   "id": "d09dcc51",
   "metadata": {},
   "outputs": [],
   "source": []
  }
 ],
 "metadata": {
  "kernelspec": {
   "display_name": "Python 3 (ipykernel)",
   "language": "python",
   "name": "python3"
  },
  "language_info": {
   "codemirror_mode": {
    "name": "ipython",
    "version": 3
   },
   "file_extension": ".py",
   "mimetype": "text/x-python",
   "name": "python",
   "nbconvert_exporter": "python",
   "pygments_lexer": "ipython3",
   "version": "3.9.12"
  }
 },
 "nbformat": 4,
 "nbformat_minor": 5
}
